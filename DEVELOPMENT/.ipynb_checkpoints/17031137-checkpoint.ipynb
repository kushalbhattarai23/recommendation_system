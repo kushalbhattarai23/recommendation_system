{
 "cells": [
  {
   "cell_type": "code",
   "execution_count": 1,
   "metadata": {},
   "outputs": [],
   "source": [
    "import pandas as pd\n",
    "import numpy as np\n",
    "import os"
   ]
  },
  {
   "cell_type": "code",
   "execution_count": 2,
   "metadata": {},
   "outputs": [],
   "source": [
    "from sklearn.feature_extraction.text import TfidfVectorizer\n",
    "from sklearn.metrics.pairwise import cosine_similarity\n",
    "from ast import literal_eval"
   ]
  },
  {
   "cell_type": "code",
   "execution_count": 3,
   "metadata": {},
   "outputs": [],
   "source": [
    "ds = pd.read_csv(os.getcwd()+'\\\\sample data\\\\sampledata.csv')"
   ]
  },
  {
   "cell_type": "code",
   "execution_count": 4,
   "metadata": {},
   "outputs": [],
   "source": [
    "features = ['keywords','genres']\n",
    "for feature in features:\n",
    "    ds[feature] = ds[feature].apply(literal_eval)\n"
   ]
  },
  {
   "cell_type": "code",
   "execution_count": 5,
   "metadata": {},
   "outputs": [],
   "source": [
    "def get_list(x):\n",
    "    if isinstance(x, list):\n",
    "        names = [i['name'] for i in x]\n",
    "        if len(names) > 1:\n",
    "            names = names[:50]\n",
    "        setname=set(names)\n",
    "        listname=list(setname)\n",
    "        return listname\n",
    "    return []\n"
   ]
  },
  {
   "cell_type": "code",
   "execution_count": 6,
   "metadata": {},
   "outputs": [],
   "source": [
    "for feature in features:\n",
    "    ds[feature] = ds[feature].apply(get_list)\n"
   ]
  },
  {
   "cell_type": "code",
   "execution_count": 7,
   "metadata": {},
   "outputs": [],
   "source": [
    "def create_key(x):\n",
    "    return ' '.join(x['genres']) +' '+ ' '.join(x['keywords']) \n",
    "ds['key'] = ds.apply(create_key, axis=1)"
   ]
  },
  {
   "cell_type": "code",
   "execution_count": 8,
   "metadata": {},
   "outputs": [],
   "source": [
    "\n",
    "tf = TfidfVectorizer(analyzer='word', ngram_range=(1, 2), min_df=0, stop_words='english')\n",
    "ds[\"overview\"].fillna(\" \", inplace = True) \n",
    "ds[\"title\"].fillna(\" \", inplace = True) \n",
    "ds[\"genres\"].fillna(\" \", inplace = True) \n",
    "ds[\"keywords\"].fillna(\" \", inplace = True) \n",
    "ds[\"tagline\"].fillna(\" \", inplace = True) \n",
    "ds['key']=ds['key']+' '+ds['title']+' '+ds['tagline']+' '+ds['overview']\n",
    "\n",
    "tfidf_matrix = tf.fit_transform(ds['key'])\n"
   ]
  },
  {
   "cell_type": "code",
   "execution_count": 9,
   "metadata": {},
   "outputs": [],
   "source": [
    "cos_similarities = cosine_similarity(tfidf_matrix, tfidf_matrix)"
   ]
  },
  {
   "cell_type": "code",
   "execution_count": 10,
   "metadata": {},
   "outputs": [],
   "source": [
    "result_dict = {}\n",
    "for key, row in ds.iterrows():\n",
    "    similar_ind = cos_similarities[key].argsort()[:-50:-1]\n",
    "    similar_items = [(cos_similarities[key][i], ds['id'][i]) for i in similar_ind]\n",
    "    result_dict[row['id']] = similar_items[1:]"
   ]
  },
  {
   "cell_type": "code",
   "execution_count": 11,
   "metadata": {},
   "outputs": [],
   "source": [
    "def item(id):\n",
    "    return ds.loc[ds['id'] == id]['title'].tolist()[0]\n"
   ]
  },
  {
   "cell_type": "code",
   "execution_count": 12,
   "metadata": {},
   "outputs": [],
   "source": [
    "def recommend(id):\n",
    "    num=5\n",
    "    print(\"Movie \"+ item(id) )\n",
    "    print(' ')\n",
    "    recs = result_dict[id][:num]\n",
    "    for rec in recs:\n",
    "        if rec[0] > 0: \n",
    "            print(item(rec[1]))\n",
    "            "
   ]
  },
  {
   "cell_type": "code",
   "execution_count": 13,
   "metadata": {},
   "outputs": [
    {
     "name": "stdout",
     "output_type": "stream",
     "text": [
      "Movie PCU\n",
      " \n",
      "High School Musical 3: Senior Year\n",
      "The Spectacular Now\n",
      "College\n",
      "Project X\n",
      "The New Guy\n"
     ]
    }
   ],
   "source": [
    "recommend(id= np.random.randint(1,len(cos_similarities),1)[0])"
   ]
  },
  {
   "cell_type": "code",
   "execution_count": 14,
   "metadata": {},
   "outputs": [
    {
     "name": "stdout",
     "output_type": "stream",
     "text": [
      "Movie The Canyons\n",
      " \n",
      "Love Letters\n",
      "Notes on a Scandal\n",
      "The Good Girl\n",
      "Johnny Suede\n",
      "Cruel Intentions\n"
     ]
    }
   ],
   "source": [
    "recommend(id= np.random.randint(1,len(cos_similarities),1)[0])"
   ]
  },
  {
   "cell_type": "code",
   "execution_count": 15,
   "metadata": {},
   "outputs": [
    {
     "name": "stdout",
     "output_type": "stream",
     "text": [
      "Movie Avatar\n",
      " \n",
      "Aliens\n",
      "Moonraker\n",
      "Alien³\n",
      "Mission to Mars\n",
      "Alien\n"
     ]
    }
   ],
   "source": [
    "recommend(1)"
   ]
  },
  {
   "cell_type": "code",
   "execution_count": 16,
   "metadata": {},
   "outputs": [],
   "source": [
    "titles = ds['title']\n",
    "indices = pd.Series(ds.index, index=ds['title'])\n",
    "def get_recommendations(title):\n",
    "    print('Movie ' +title )\n",
    "    idx = indices[title]\n",
    "    sim_scores = list(enumerate(cos_similarities[idx]))\n",
    "    sim_scores = sorted(sim_scores, key=lambda x: x[1], reverse=True)\n",
    "    sim_scores = sim_scores[1:6]\n",
    "    movie_indices = [i[0] for i in sim_scores]\n",
    "    return titles.iloc[movie_indices]\n"
   ]
  },
  {
   "cell_type": "code",
   "execution_count": 17,
   "metadata": {},
   "outputs": [
    {
     "name": "stdout",
     "output_type": "stream",
     "text": [
      "Movie Avatar\n"
     ]
    },
    {
     "data": {
      "text/plain": [
       "2403             Aliens\n",
       "1531          Moonraker\n",
       "838              Alien³\n",
       "373     Mission to Mars\n",
       "3158              Alien\n",
       "Name: title, dtype: object"
      ]
     },
     "execution_count": 17,
     "metadata": {},
     "output_type": "execute_result"
    }
   ],
   "source": [
    "get_recommendations('Avatar')"
   ]
  },
  {
   "cell_type": "code",
   "execution_count": null,
   "metadata": {},
   "outputs": [],
   "source": [
    "Bibliography\n",
    "Balabanovic, M. & Shoham, Y. (1997) FAB: Content-based collaborative recommendation. COMMUNICATIONS OF THE ACM, 40(3).\n",
    "Emmanuel, M. & Deshpande, A.R. (2016) Context based Recommendation Methods: A Brief Review. International Journal of Computer Applications (0975 – 8887) International Conference on Cognitive Knowledge Engineering 2016.\n",
    "Hapke, H., Howard, C. & Lane, H. (2019) Natural Language Processing in Action. Manning Publications.\n",
    "Medium towards datascience. (2019) introduction-to-two-approaches-of-content-based-recommendation-system-fc797460c18c [Online]. Available from: https://towardsdatascience.com/introduction-to-two-approaches-of-content-based-recommendation-system-fc797460c18c [Accessed 11 January 2020].\n",
    "Vaidya, N. & Khachane, A.R. (2017) Recommender systems-the need of the ecommerce ERA. International Conference on Computing Methodologies and Communication (ICCMC), pp.100-04. Available at: https://ieeexplore.ieee.org/document/8282616/keywords.\n",
    "TFIDF. (2020) http://www.tfidf.com/ [Online]. Available from: http://www.tfidf.com/ [Accessed 12 January 2020].\n",
    "\n",
    "\n"
   ]
  }
 ],
 "metadata": {
  "kernelspec": {
   "display_name": "Python 3",
   "language": "python",
   "name": "python3"
  },
  "language_info": {
   "codemirror_mode": {
    "name": "ipython",
    "version": 3
   },
   "file_extension": ".py",
   "mimetype": "text/x-python",
   "name": "python",
   "nbconvert_exporter": "python",
   "pygments_lexer": "ipython3",
   "version": "3.7.3"
  }
 },
 "nbformat": 4,
 "nbformat_minor": 2
}
